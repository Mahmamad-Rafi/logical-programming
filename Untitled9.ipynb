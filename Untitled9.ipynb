{
  "nbformat": 4,
  "nbformat_minor": 0,
  "metadata": {
    "colab": {
      "name": "Untitled9.ipynb",
      "provenance": [],
      "authorship_tag": "ABX9TyMEOV0oxQNiKavUNLEvi5Fh",
      "include_colab_link": true
    },
    "kernelspec": {
      "name": "python3",
      "display_name": "Python 3"
    },
    "language_info": {
      "name": "python"
    }
  },
  "cells": [
    {
      "cell_type": "markdown",
      "metadata": {
        "id": "view-in-github",
        "colab_type": "text"
      },
      "source": [
        "<a href=\"https://colab.research.google.com/github/Mahmamad-Rafi/logical-programming/blob/main/Untitled9.ipynb\" target=\"_parent\"><img src=\"https://colab.research.google.com/assets/colab-badge.svg\" alt=\"Open In Colab\"/></a>"
      ]
    },
    {
      "cell_type": "code",
      "execution_count": 1,
      "metadata": {
        "colab": {
          "base_uri": "https://localhost:8080/"
        },
        "id": "jzpKaiyWC9gt",
        "outputId": "885487cb-283b-44a3-d4a8-2c8791bfa639"
      },
      "outputs": [
        {
          "output_type": "stream",
          "name": "stdout",
          "text": [
            " the dictionary of the elements in asecnding order= [('apple', 1), ('realme', 2), ('motto', 3), ('vivo', 4), ('appo', 5)]\n",
            "the dictionary of the elements in desecnding order= [('appo', 5), ('vivo', 4), ('motto', 3), ('realme', 2), ('apple', 1)]\n"
          ]
        }
      ],
      "source": [
        "mobiles={\"vivo\":4,\"appo\":5,\"apple\":1,\"realme\":2,\"motto\":3}\n",
        "print(\" the dictionary of the elements in asecnding order=\",sorted(mobiles.items(),key=lambda x:x[1]))\n",
        "print(\"the dictionary of the elements in desecnding order=\",sorted(mobiles.items(),key=lambda x:x[1],reverse=True))"
      ]
    },
    {
      "cell_type": "code",
      "source": [
        "mobile={\"vivo\":4,\"appo\":5,\"apple\":1,\"realme\":2,\"motto\":3}\n",
        "intmobile=[dict([mobile_name,int(mobile_rank)]for mobile_name,mobile_rank in mobile.items())]\n",
        "print(\"the dictionary of the integer type=\",intmobile)\n",
        "floatmobile=[dict([mobile_name,float(mobile_rank)]for mobile_name,mobile_rank in mobile.items())]\n",
        "print(\"the dictionary of the float type=\",floatmobile)"
      ],
      "metadata": {
        "colab": {
          "base_uri": "https://localhost:8080/"
        },
        "id": "0zvm2hc8G8Xl",
        "outputId": "208a2f35-304f-46c0-f7c9-1439607abbe1"
      },
      "execution_count": 12,
      "outputs": [
        {
          "output_type": "stream",
          "name": "stdout",
          "text": [
            "the dictionary of the integer type= [{'vivo': 4, 'appo': 5, 'apple': 1, 'realme': 2, 'motto': 3}]\n",
            "the dictionary of the float type= [{'vivo': 4.0, 'appo': 5.0, 'apple': 1.0, 'realme': 2.0, 'motto': 3.0}]\n"
          ]
        }
      ]
    },
    {
      "cell_type": "code",
      "source": [
        "Employee = {\"Name\": \"John\", \"Age\": 29, \"salary\":25000,\"Company\":\"GOOGLE\"}  \n",
        "print(type(Employee))  \n",
        "print(\"printing Employee data .... \")  \n",
        "print(\"Name : %s\" %Employee[\"Name\"])  \n",
        "print(\"Age : %d\" %Employee[\"Age\"])  \n",
        "print(\"Salary : %d\" %Employee[\"salary\"])  \n",
        "print(\"Company : %s\" %Employee[\"Company\"])  "
      ],
      "metadata": {
        "id": "9LlsEHGFLbRa"
      },
      "execution_count": null,
      "outputs": []
    }
  ]
}