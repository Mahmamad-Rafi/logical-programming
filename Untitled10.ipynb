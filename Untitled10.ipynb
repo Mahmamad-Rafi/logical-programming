{
  "nbformat": 4,
  "nbformat_minor": 0,
  "metadata": {
    "colab": {
      "name": "Untitled10.ipynb",
      "provenance": [],
      "authorship_tag": "ABX9TyPUhVVH3qSyxK+CEyHFujxW",
      "include_colab_link": true
    },
    "kernelspec": {
      "name": "python3",
      "display_name": "Python 3"
    },
    "language_info": {
      "name": "python"
    }
  },
  "cells": [
    {
      "cell_type": "markdown",
      "metadata": {
        "id": "view-in-github",
        "colab_type": "text"
      },
      "source": [
        "<a href=\"https://colab.research.google.com/github/Mahmamad-Rafi/logical-programming/blob/main/Untitled10.ipynb\" target=\"_parent\"><img src=\"https://colab.research.google.com/assets/colab-badge.svg\" alt=\"Open In Colab\"/></a>"
      ]
    },
    {
      "cell_type": "code",
      "execution_count": 1,
      "metadata": {
        "colab": {
          "base_uri": "https://localhost:8080/"
        },
        "id": "18FZ3z2vIG4B",
        "outputId": "9d486d19-5280-4648-da5c-34aefbe92100"
      },
      "outputs": [
        {
          "output_type": "stream",
          "name": "stdout",
          "text": [
            "enter the name of the student rafi\n",
            "enter the age of the student 19\n"
          ]
        }
      ],
      "source": [
        "class student:\n",
        "    def __init__(self,name,age):\n",
        "        self.name=name\n",
        "        self.age=age\n",
        "    def display(self):\n",
        "         print(\"enter the name of the student\",self.name)\n",
        "         print(\"enter the age of the student\",self.age)\n",
        "s1=student(\"rafi\",19)\n",
        "s1.display()"
      ]
    },
    {
      "cell_type": "code",
      "source": [
        "class student:\n",
        "    def __init__(self,name,age):\n",
        "        self.name=name\n",
        "        self.age=age\n",
        "    def display(self):\n",
        "        s1=input(\"enter the name of the student\"),int(input(\"enter the age of the student\"))\n",
        "  \n",
        "print(s1)\n",
        "p1=student(\"rafi\",19)\n",
        "p1.display()\n"
      ],
      "metadata": {
        "colab": {
          "base_uri": "https://localhost:8080/"
        },
        "id": "GCAfTVFMJgb0",
        "outputId": "c0292838-f8ff-49d7-89cc-dd731b77928f"
      },
      "execution_count": 32,
      "outputs": [
        {
          "name": "stdout",
          "output_type": "stream",
          "text": [
            "<__main__.student object at 0x7ff6a3161cd0>\n",
            "enter the name of the studentrafi\n",
            "enter the age of the student14\n"
          ]
        }
      ]
    },
    {
      "cell_type": "code",
      "source": [
        "\n",
        "class student:\n",
        "    def __init__(self,name,age):\n",
        "        self.__name=name\n",
        "        self.__age=age\n",
        "    def __str__(self):\n",
        "      s=student(str(input(\"enter the name of the student\")),int(input(\"enter the age of the student\")))\n",
        "print(\"student details\")\n",
        "print(str(s))\n",
        "      "
      ],
      "metadata": {
        "colab": {
          "base_uri": "https://localhost:8080/"
        },
        "id": "U0gJh-MzOOuM",
        "outputId": "877a3d50-f0f7-4a0e-f383-095690627665"
      },
      "execution_count": 26,
      "outputs": [
        {
          "output_type": "stream",
          "name": "stdout",
          "text": [
            "student details\n",
            "rafiis56years\n"
          ]
        }
      ]
    },
    {
      "cell_type": "code",
      "source": [
        "class student:\n",
        "    def __init__(self,name,age):\n",
        "        self.__name=name\n",
        "        self.__age=age\n",
        "    def __str__(self):\n",
        "        s=student(str(input(\"enter the name of the student\")),int(input(\"enter the age of the student\")))\n",
        "print(str(s))\n",
        "      "
      ],
      "metadata": {
        "colab": {
          "base_uri": "https://localhost:8080/"
        },
        "id": "h1_GWuHhXQes",
        "outputId": "9c072019-f671-4ab6-eb5a-c1257b8fad3b"
      },
      "execution_count": 30,
      "outputs": [
        {
          "output_type": "stream",
          "name": "stdout",
          "text": [
            "rafiis56years\n"
          ]
        }
      ]
    },
    {
      "cell_type": "code",
      "source": [
        "class student:\n",
        "    def__init__(self.firstname,lastname,mail,age):\n",
        "        self.__firstname=firstname\n",
        "        self.__lastname=__lastname\n",
        "        self.__mail=mail\n",
        "    def display (self):\n",
        "            "
      ],
      "metadata": {
        "id": "5k6zBt2Kcuuw"
      },
      "execution_count": null,
      "outputs": []
    }
  ]
}