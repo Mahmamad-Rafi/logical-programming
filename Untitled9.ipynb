{
  "nbformat": 4,
  "nbformat_minor": 0,
  "metadata": {
    "colab": {
      "name": "Untitled9.ipynb",
      "provenance": [],
      "authorship_tag": "ABX9TyNAH6FxNdXn5eiKAm3hi6j7",
      "include_colab_link": true
    },
    "kernelspec": {
      "name": "python3",
      "display_name": "Python 3"
    },
    "language_info": {
      "name": "python"
    }
  },
  "cells": [
    {
      "cell_type": "markdown",
      "metadata": {
        "id": "view-in-github",
        "colab_type": "text"
      },
      "source": [
        "<a href=\"https://colab.research.google.com/github/Mahmamad-Rafi/logical-programming/blob/main/Untitled9.ipynb\" target=\"_parent\"><img src=\"https://colab.research.google.com/assets/colab-badge.svg\" alt=\"Open In Colab\"/></a>"
      ]
    },
    {
      "cell_type": "code",
      "execution_count": 1,
      "metadata": {
        "colab": {
          "base_uri": "https://localhost:8080/"
        },
        "id": "jzpKaiyWC9gt",
        "outputId": "885487cb-283b-44a3-d4a8-2c8791bfa639"
      },
      "outputs": [
        {
          "output_type": "stream",
          "name": "stdout",
          "text": [
            " the dictionary of the elements in asecnding order= [('apple', 1), ('realme', 2), ('motto', 3), ('vivo', 4), ('appo', 5)]\n",
            "the dictionary of the elements in desecnding order= [('appo', 5), ('vivo', 4), ('motto', 3), ('realme', 2), ('apple', 1)]\n"
          ]
        }
      ],
      "source": [
        "mobiles={\"vivo\":4,\"appo\":5,\"apple\":1,\"realme\":2,\"motto\":3}\n",
        "print(\" the dictionary of the elements in asecnding order=\",sorted(mobiles.items(),key=lambda x:x[1]))\n",
        "print(\"the dictionary of the elements in desecnding order=\",sorted(mobiles.items(),key=lambda x:x[1],reverse=True))"
      ]
    }
  ]
}